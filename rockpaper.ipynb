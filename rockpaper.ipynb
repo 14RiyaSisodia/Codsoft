{
 "cells": [
  {
   "cell_type": "code",
   "execution_count": null,
   "id": "dc33a9e3-8ddf-4421-9438-6aa511c8092e",
   "metadata": {},
   "outputs": [],
   "source": [
    "import random\n",
    "from tkinter import*\n",
    "win = Tk()\n",
    "options = (\"rock\",\"paper\",\"scissors\")\n",
    "player  = None\n",
    "computer = random.choice(options)\n",
    "running = True\n",
    "player = input(\"Enter the choice(rock,paper, scissors):\")\n",
    "while running:\n",
    "    player  = None\n",
    "    computer = random.choice(options)\n",
    "    while player not in options:\n",
    "        player = input(\"Enter the choice(rock,paper, scissors):\")\n",
    "        print(f\"Player:{player}\")\n",
    "        print(f\"Computer:{computer}\")\n",
    "        if player == computer :\n",
    "            print(\"It's a Tie!\")\n",
    "        elif player == \"rock\" and computer == \" scissors\":\n",
    "            print(\"You Win!\")\n",
    "        elif player == \"paper\" and computer == \" rock\":\n",
    "            print(\"You Win!\")\n",
    "        elif player == \"scissors\" and computer == \" paper\":\n",
    "            print(\"You Win!\")\n",
    "        else:\n",
    "            print(\"You Lose!\")\n",
    "        if not input(\"Play Again ? (yes/no): \") .lower() == \"yes\":\n",
    "            running = False\n",
    "print(\"Thanks For Playing!\")\n",
    "    \n",
    "win.mainloop()"
   ]
  },
  {
   "cell_type": "code",
   "execution_count": null,
   "id": "08b9ec97-4156-478b-afe4-b982b2150335",
   "metadata": {},
   "outputs": [],
   "source": []
  },
  {
   "cell_type": "code",
   "execution_count": null,
   "id": "3e036697-03b5-4b6a-aa73-ca18f20b3733",
   "metadata": {},
   "outputs": [],
   "source": []
  }
 ],
 "metadata": {
  "kernelspec": {
   "display_name": "Python 3 (ipykernel)",
   "language": "python",
   "name": "python3"
  },
  "language_info": {
   "codemirror_mode": {
    "name": "ipython",
    "version": 3
   },
   "file_extension": ".py",
   "mimetype": "text/x-python",
   "name": "python",
   "nbconvert_exporter": "python",
   "pygments_lexer": "ipython3",
   "version": "3.11.7"
  }
 },
 "nbformat": 4,
 "nbformat_minor": 5
}
